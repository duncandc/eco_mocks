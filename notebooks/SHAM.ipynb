{
 "cells": [
  {
   "cell_type": "code",
   "execution_count": 1,
   "metadata": {},
   "outputs": [],
   "source": [
    "from __future__ import print_function, division\n",
    "import numpy as np\n",
    "import matplotlib.pyplot as plt\n",
    "%matplotlib inline"
   ]
  },
  {
   "cell_type": "code",
   "execution_count": 2,
   "metadata": {},
   "outputs": [],
   "source": [
    "# location to save figures\n",
    "import os\n",
    "cwd = os.getcwd()\n",
    "figure_path = cwd + '/figures/'"
   ]
  },
  {
   "cell_type": "markdown",
   "metadata": {},
   "source": [
    "# Abundance Matching"
   ]
  },
  {
   "cell_type": "markdown",
   "metadata": {},
   "source": [
    "Build SHAM mocks for ECO and Resolve."
   ]
  },
  {
   "cell_type": "code",
   "execution_count": 3,
   "metadata": {},
   "outputs": [],
   "source": [
    "from eco_mocks.galaxy_abundance_functions import Eckert_2016_phi\n",
    "from AbundanceMatching import *"
   ]
  },
  {
   "cell_type": "code",
   "execution_count": 4,
   "metadata": {},
   "outputs": [],
   "source": [
    "# choose abundance function\n",
    "phi_1 = Eckert_2016_phi(sample='RESOLVE-B SMF single')\n",
    "\n",
    "# tabulate stellar mass function\n",
    "msample = np.logspace(5,12,1000)\n",
    "nsample = phi_1(msample)\n",
    "af = AbundanceFunction(np.log10(msample), nsample, faint_end_first=True)"
   ]
  },
  {
   "cell_type": "code",
   "execution_count": 5,
   "metadata": {},
   "outputs": [],
   "source": [
    "# load halo catalog\n",
    "import warnings\n",
    "warnings.simplefilter(action='ignore', category=FutureWarning)\n",
    "from halotools import sim_manager\n",
    "simname = 'vishnu_130'\n",
    "halocat = sim_manager.CachedHaloCatalog(simname = simname, redshift=0.0, dz_tol = 0.001,\n",
    "                                        version_name='custom', halo_finder='Rockstar')"
   ]
  },
  {
   "cell_type": "code",
   "execution_count": 6,
   "metadata": {},
   "outputs": [],
   "source": [
    "from eco_mocks.sham_model import DeconvolveSHAM"
   ]
  },
  {
   "cell_type": "code",
   "execution_count": 7,
   "metadata": {},
   "outputs": [],
   "source": [
    "from halotools.empirical_models import SubhaloModelFactory\n",
    "from halotools.empirical_models import Behroozi10SmHm\n",
    "sm_model =  DeconvolveSHAM(stellar_mass_function = phi_1, scatter=0.15, prim_haloprop='halo_vpeak')\n",
    "model_instance = SubhaloModelFactory(stellar_mass = sm_model)"
   ]
  },
  {
   "cell_type": "code",
   "execution_count": 8,
   "metadata": {},
   "outputs": [
    {
     "name": "stdout",
     "output_type": "stream",
     "text": [
      "Lbox not found in halocat.\n"
     ]
    }
   ],
   "source": [
    "model_instance.populate_mock(halocat)\n",
    "mock = model_instance.mock.galaxy_table"
   ]
  },
  {
   "cell_type": "code",
   "execution_count": 11,
   "metadata": {},
   "outputs": [
    {
     "data": {
      "image/png": "[encoded data removed]",
      "text/plain": [
       "<Figure size 237.6x237.6 with 1 Axes>"
      ]
     },
     "metadata": {},
     "output_type": "display_data"
    }
   ],
   "source": [
    "plt.figure(figsize=(3.3,3.3))\n",
    "plt.plot(mock['halo_vpeak'], mock['stellar_mass'], '.', color='grey', ms=1)\n",
    "plt.ylabel(r'$\\langle M_{*}\\rangle~h^{-2}M_{\\odot}$')\n",
    "plt.ylim([10**8.0,10**12.0])\n",
    "#plt.xlim([10**9,10**15])\n",
    "plt.xscale('log')\n",
    "plt.yscale('log')\n",
    "plt.show()"
   ]
  },
  {
   "cell_type": "code",
   "execution_count": null,
   "metadata": {},
   "outputs": [],
   "source": []
  }
 ],
 "metadata": {
  "kernelspec": {
   "display_name": "Python 2",
   "language": "python",
   "name": "python2"
  },
  "language_info": {
   "codemirror_mode": {
    "name": "ipython",
    "version": 2
   },
   "file_extension": ".py",
   "mimetype": "text/x-python",
   "name": "python",
   "nbconvert_exporter": "python",
   "pygments_lexer": "ipython2",
   "version": "2.7.14"
  }
 },
 "nbformat": 4,
 "nbformat_minor": 2
}
