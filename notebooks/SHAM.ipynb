{
 "cells": [
  {
   "cell_type": "code",
   "execution_count": 1,
   "metadata": {},
   "outputs": [],
   "source": [
    "from __future__ import print_function, division\n",
    "import numpy as np\n",
    "import matplotlib.pyplot as plt\n",
    "%matplotlib inline"
   ]
  },
  {
   "cell_type": "code",
   "execution_count": 2,
   "metadata": {},
   "outputs": [],
   "source": [
    "# location to save figures\n",
    "import os\n",
    "cwd = os.getcwd()\n",
    "figure_path = cwd + '/figures/'"
   ]
  },
  {
   "cell_type": "markdown",
   "metadata": {},
   "source": [
    "# Abundance Matching"
   ]
  },
  {
   "cell_type": "markdown",
   "metadata": {},
   "source": [
    "Build SHAM mocks for ECO and Resolve."
   ]
  },
  {
   "cell_type": "code",
   "execution_count": 5,
   "metadata": {},
   "outputs": [],
   "source": [
    "from eco_mocks.galaxy_abundance_functions import Eckert_2016_phi\n",
    "from AbundanceMatching import *"
   ]
  },
  {
   "cell_type": "code",
   "execution_count": 6,
   "metadata": {},
   "outputs": [],
   "source": [
    "# choose abundance function\n",
    "phi_1 = Eckert_2016_phi(sample='ECO SMF double')\n",
    "\n",
    "# tabulate stellar mass function\n",
    "msample = 10**np.arange(5,12.0,0.1)\n",
    "nsample = phi_1(msample)\n",
    "af = AbundanceFunction(np.log10(msample), nsample, faint_end_first=True)"
   ]
  },
  {
   "cell_type": "code",
   "execution_count": 7,
   "metadata": {},
   "outputs": [],
   "source": [
    "# load halo catalog\n",
    "import warnings\n",
    "warnings.simplefilter(action='ignore', category=FutureWarning)\n",
    "from halotools import sim_manager\n",
    "simname = 'vishnu_130'\n",
    "halocat = sim_manager.CachedHaloCatalog(simname = simname, redshift=0.0, dz_tol = 0.001,\n",
    "                                        version_name='custom', halo_finder='Rockstar')\n",
    "Lbox = np.array([130.0,130.0,130.0])"
   ]
  },
  {
   "cell_type": "code",
   "execution_count": 8,
   "metadata": {},
   "outputs": [],
   "source": [
    "from eco_mocks.sham_model import DeconvolveSHAM"
   ]
  },
  {
   "cell_type": "code",
   "execution_count": 9,
   "metadata": {},
   "outputs": [],
   "source": [
    "from halotools.empirical_models import SubhaloModelFactory\n",
    "from halotools.empirical_models import Behroozi10SmHm\n",
    "sm_model = DeconvolveSHAM(stellar_mass_function = phi_1, scatter=0.15, prim_galprop='stellar_mass',\n",
    "                           prim_haloprop='halo_vpeak', Lbox=Lbox)\n",
    "model_instance = SubhaloModelFactory(stellar_mass = sm_model)"
   ]
  },
  {
   "cell_type": "code",
   "execution_count": 10,
   "metadata": {},
   "outputs": [],
   "source": [
    "sm_model = DeconvolveSHAM(stellar_mass_function = phi_1, scatter=0.15, prim_galprop='stellar_mass',\n",
    "                          prim_haloprop='halo_vpeak', Lbox=Lbox)\n",
    "model_instance = SubhaloModelFactory(stellar_mass = sm_model)"
   ]
  },
  {
   "cell_type": "code",
   "execution_count": 11,
   "metadata": {},
   "outputs": [
    {
     "name": "stdout",
     "output_type": "stream",
     "text": [
      "Error automatically detecting Lbox.\n"
     ]
    }
   ],
   "source": [
    "model_instance.populate_mock(halocat)\n",
    "mock = model_instance.mock.galaxy_table"
   ]
  },
  {
   "cell_type": "code",
   "execution_count": 12,
   "metadata": {},
   "outputs": [
    {
     "data": {
      "image/png": "[encoded data removed]",
      "text/plain": [
       "<Figure size 237.6x237.6 with 1 Axes>"
      ]
     },
     "metadata": {},
     "output_type": "display_data"
    }
   ],
   "source": [
    "plt.figure(figsize=(3.3,3.3))\n",
    "plt.plot(mock['halo_vpeak'], mock['stellar_mass'], '.', color='grey', ms=1)\n",
    "plt.ylabel(r'$\\langle M_{*}\\rangle~h^{-2}M_{\\odot}$')\n",
    "plt.ylim([10**8.0,10**12.0])\n",
    "#plt.xlim([10**9,10**15])\n",
    "plt.xscale('log')\n",
    "plt.yscale('log')\n",
    "plt.show()"
   ]
  },
  {
   "cell_type": "code",
   "execution_count": 13,
   "metadata": {},
   "outputs": [],
   "source": [
    "from eco_mocks.sham_model import DeconvolveSHAM, HaloProps, CAMGalProp, TertiaryGalProps\n",
    "from eco_mocks.galaxy_abundance_functions import Eckert_2016_phi\n",
    "from eco_mocks.galaxy_secondary_functions import prim_prop_nn\n",
    "from eco_mocks.eco_galaxy_properties import eco_table as default_data\n",
    "\n",
    "# some parameters to set for all models\n",
    "Lbox = np.array([130.0,130.0,130.0])  # Vishnu box size\n",
    "mstar_bins = 10**np.arange(5,12.0,0.1)  # stellar mass bins for CAM\n",
    "mbary_bins = 10**np.arange(5,12.0,0.1)  # baryonic mass bins for CAM\n",
    "\n",
    "####################################################################################\n",
    "#### stellar mass based models\n",
    "####################################################################################\n",
    "\n",
    "#define galaxy selection function\n",
    "def galaxy_selection_func(table, min_mass=10**8.0, max_mass=np.inf, prim_gal_prop='stellar_mass'):\n",
    "    \"\"\"\n",
    "    define which galaxies should appear in the mock galaxy table\n",
    "\n",
    "    Parameters\n",
    "    ----------\n",
    "    table : astropy.table object\n",
    "        table containing mock galaxies\n",
    "    \"\"\"\n",
    "\n",
    "    mask = (table[prim_gal_prop] >= min_mass) & (table[prim_gal_prop] < max_mass)\n",
    "    return mask\n",
    "\n",
    "\n",
    "class BaryonicMass(object):\n",
    "    \"\"\"\n",
    "    class to add baryonic mass given stellar mass and fgas\n",
    "    \"\"\"\n",
    "\n",
    "    def __init__(self, gas_fraction_key='fgas', **kwargs):\n",
    "        \"\"\"\n",
    "        \"\"\"\n",
    "\n",
    "        self._mock_generation_calling_sequence = ['assign_baryonic_mass']\n",
    "        self._galprop_dtypes_to_allocate = np.dtype([('baryonic_mass','f4'), ('gas_mass','f4')])\n",
    "        self.list_of_haloprops_needed = []\n",
    "        self.gas_fraction_key = gas_fraction_key\n",
    "\n",
    "    def assign_baryonic_mass(self, **kwargs):\n",
    "        \"\"\"\n",
    "        \"\"\"\n",
    "\n",
    "        table = kwargs['table']\n",
    "\n",
    "        fg = table[self.gas_fraction_key]\n",
    "        mstar = table['stellar_mass']\n",
    "\n",
    "        table['gas_mass'] = (fg/(1.0-fg))*mstar\n",
    "        table['baryonic_mass'] = mstar + table['gas_mass']\n",
    "\n",
    "        return table\n"
   ]
  },
  {
   "cell_type": "code",
   "execution_count": 17,
   "metadata": {},
   "outputs": [],
   "source": [
    "phi = Eckert_2016_phi(sample='ECO SMF double')\n",
    "sm_model =  DeconvolveSHAM(stellar_mass_function = phi, scatter=0.15,\n",
    "                           prim_galprop='stellar_mass', prim_haloprop='halo_vpeak', Lbox=Lbox)\n",
    "additional_halo_properties = HaloProps()\n",
    "color_dist = prim_prop_nn(prim_prop='stellar_mass', sec_prop='u_minus_r')\n",
    "color_model = CAMGalProp('stellar_mass', mstar_bins, rho=-1.0,\n",
    "                         secondary_haloprop='halo_half_mass_scale',\n",
    "                         secondary_galprop='u_minus_r',\n",
    "                         conditional_rvs=color_dist.rvs,\n",
    "                         additional_galprop='reference_idx')\n",
    "props_to_allocate = default_data.keys()\n",
    "props_to_allocate.remove('stellar_mass')\n",
    "props_to_allocate.remove('baryonic_mass')\n",
    "props_to_allocate.remove('gas_mass')\n",
    "props_to_allocate.remove('u_minus_r')\n",
    "tertiaty_props = TertiaryGalProps(default_data, 'reference_idx', props_to_allocate)\n",
    "baryonic_mass = BaryonicMass()\n",
    "model_1a = SubhaloModelFactory(stellar_mass = sm_model,\n",
    "                               haloprops = additional_halo_properties,\n",
    "                               galaxy_color = color_model,\n",
    "                               more_galaxy_properties = tertiaty_props,\n",
    "                               baryonic_mass = baryonic_mass,\n",
    "                               galaxy_selection_func = galaxy_selection_func,\n",
    "                               model_feature_calling_sequence = ('stellar_mass', 'galaxy_color', 'haloprops',\n",
    "                                                                 'more_galaxy_properties', 'baryonic_mass'))"
   ]
  },
  {
   "cell_type": "code",
   "execution_count": 18,
   "metadata": {},
   "outputs": [
    {
     "name": "stdout",
     "output_type": "stream",
     "text": [
      "Error automatically detecting Lbox.\n",
      "100000.0000001 100000.0\n"
     ]
    }
   ],
   "source": [
    "#model_1a = SubhaloModelFactory(stellar_mass = sm_model)\n",
    "model_1a.populate_mock(halocat)\n",
    "mock = model_instance.mock.galaxy_table"
   ]
  },
  {
   "cell_type": "code",
   "execution_count": null,
   "metadata": {},
   "outputs": [],
   "source": []
  }
 ],
 "metadata": {
  "kernelspec": {
   "display_name": "Python 2",
   "language": "python",
   "name": "python2"
  },
  "language_info": {
   "codemirror_mode": {
    "name": "ipython",
    "version": 2
   },
   "file_extension": ".py",
   "mimetype": "text/x-python",
   "name": "python",
   "nbconvert_exporter": "python",
   "pygments_lexer": "ipython2",
   "version": "2.7.15"
  }
 },
 "nbformat": 4,
 "nbformat_minor": 2
}
